{
 "cells": [
  {
   "cell_type": "code",
   "execution_count": 2,
   "id": "501f1b24",
   "metadata": {},
   "outputs": [],
   "source": [
    "from typing import Tuple, Optional, Union\n",
    "import math\n",
    "import torch as th\n",
    "import torch\n",
    "import torch.nn as nn\n",
    "import torchaudio as ta\n",
    "from torchaudio.transforms import PSD\n",
    "import torch.nn.functional as F"
   ]
  },
  {
   "cell_type": "code",
   "execution_count": 65,
   "id": "977fc1e8",
   "metadata": {},
   "outputs": [],
   "source": [
    "class mask_estimator(nn.Module):\n",
    "    def __init__(self, log_flag=False):\n",
    "        \n",
    "        super().__init__()\n",
    "        self.log_flag = log_flag\n",
    "        \n",
    "        self.conv_1 = nn.Sequential(\n",
    "            nn.Conv2d(1, 32, \n",
    "                      kernel_size=(8, 1), stride=(4, 1)\n",
    "                     ), \n",
    "            nn.InstanceNorm2d(32), \n",
    "            nn.GELU()\n",
    "        )\n",
    "        \n",
    "        self.conv_2 = nn.Sequential(\n",
    "            nn.Conv2d(32, 64, \n",
    "                      kernel_size=(8, 1), stride=(4, 1)\n",
    "                     ), \n",
    "            nn.InstanceNorm2d(64), \n",
    "            nn.GELU()\n",
    "        )\n",
    "        \n",
    "        self.conv_3 = nn.Sequential(\n",
    "            nn.Conv2d(64, 128, \n",
    "                      kernel_size=(8, 1), stride=(4, 1)\n",
    "                     ), \n",
    "            nn.InstanceNorm2d(128), \n",
    "            nn.GELU()\n",
    "        )\n",
    "        \n",
    "        self.lstm = nn.LSTM(input_size=128, \n",
    "                            hidden_size=128, \n",
    "                            num_layers=1, \n",
    "                            batch_first=True)\n",
    "        \n",
    "        \n",
    "        self.fc_b = nn.Sequential(\n",
    "            nn.Linear(128, 128),\n",
    "            nn.InstanceNorm1d(128), \n",
    "            nn.GELU()\n",
    "        )\n",
    "        \n",
    "        self.fc_1 = nn.Sequential(\n",
    "            nn.Linear(128, 256),\n",
    "            nn.InstanceNorm1d(256), \n",
    "            nn.GELU()\n",
    "        )\n",
    "        \n",
    "        self.fc_2 = nn.Sequential(\n",
    "            nn.Linear(256, 512),\n",
    "            nn.InstanceNorm1d(512), \n",
    "            nn.GELU()\n",
    "        )\n",
    "        \n",
    "        self.fc_3 = nn.Sequential(\n",
    "            nn.Linear(512, 200),\n",
    "            nn.InstanceNorm1d(200), \n",
    "            nn.GELU()\n",
    "        )\n",
    "    def forward(self, spec): # (B, C, F, T)\n",
    "        B, C, F, T = spec.shape\n",
    "        \n",
    "        mag = spec.abs().mean(dim=1)  # (B, F, T)\n",
    "        if self.log_flag:\n",
    "            mag = torch.log(mag + 1e-5) \n",
    "        \n",
    "        mag = mag.view(B, 1, F, T) # (B, C, F, T)\n",
    "        \n",
    "        x = self.conv_1(mag)\n",
    "        x = self.conv_2(x)\n",
    "        x = self.conv_3(x)\n",
    "        \n",
    "        _, _, F_c, _ = x.shape\n",
    "        x = x.view(B, -1, T).permute(0, 2, 1) # (B, C, F, T) -> (B, C*F, T) -> (B, T, C*F)\n",
    "        x = self.lstm(x)[0] + self.fc_b(x) + x\n",
    "        \n",
    "        x = self.fc_1(x)\n",
    "        x = self.fc_2(x)\n",
    "        x = self.fc_3(x)\n",
    "        return  x.permute(0,2,1)"
   ]
  },
  {
   "cell_type": "code",
   "execution_count": 66,
   "id": "316179ff",
   "metadata": {},
   "outputs": [],
   "source": [
    "mask_m = mask_estimator()"
   ]
  },
  {
   "cell_type": "code",
   "execution_count": 67,
   "id": "1b677e0b",
   "metadata": {},
   "outputs": [],
   "source": [
    "spect = torch.rand(1, 1, 200, 357)"
   ]
  },
  {
   "cell_type": "code",
   "execution_count": 68,
   "id": "b8fcedc3",
   "metadata": {},
   "outputs": [
    {
     "data": {
      "text/plain": [
       "tensor([[[ 0.1317, -0.1699, -0.1594,  ...,  0.7900, -0.0456, -0.1331],\n",
       "         [ 0.6650,  1.2864,  0.6785,  ...,  0.3314,  0.8197, -0.0612],\n",
       "         [ 0.6642, -0.1651, -0.1318,  ...,  0.1767,  0.3496,  0.1475],\n",
       "         ...,\n",
       "         [ 0.3783,  0.6874,  0.7025,  ...,  0.7915,  1.0150,  0.8384],\n",
       "         [ 0.1408,  0.0096,  0.6543,  ...,  0.4268,  1.2694,  0.1685],\n",
       "         [-0.1182, -0.1667, -0.1699,  ...,  0.3841, -0.1414,  0.3926]]],\n",
       "       grad_fn=<PermuteBackward0>)"
      ]
     },
     "execution_count": 68,
     "metadata": {},
     "output_type": "execute_result"
    }
   ],
   "source": [
    "mask_m(spect)"
   ]
  },
  {
   "cell_type": "code",
   "execution_count": 69,
   "id": "f2bd702a",
   "metadata": {},
   "outputs": [
    {
     "data": {
      "text/plain": [
       "498216"
      ]
     },
     "execution_count": 69,
     "metadata": {},
     "output_type": "execute_result"
    }
   ],
   "source": [
    "sum(p.numel() for p in mask_m.parameters())"
   ]
  },
  {
   "cell_type": "code",
   "execution_count": 71,
   "id": "314e6a0b",
   "metadata": {},
   "outputs": [
    {
     "name": "stdout",
     "output_type": "stream",
     "text": [
      "13.7 ms ± 503 µs per loop (mean ± std. dev. of 7 runs, 100 loops each)\n"
     ]
    }
   ],
   "source": [
    "%%timeit\n",
    "mask_m(spect)"
   ]
  }
 ],
 "metadata": {
  "kernelspec": {
   "display_name": "Python 3 (ipykernel)",
   "language": "python",
   "name": "python3"
  },
  "language_info": {
   "codemirror_mode": {
    "name": "ipython",
    "version": 3
   },
   "file_extension": ".py",
   "mimetype": "text/x-python",
   "name": "python",
   "nbconvert_exporter": "python",
   "pygments_lexer": "ipython3",
   "version": "3.10.6"
  }
 },
 "nbformat": 4,
 "nbformat_minor": 5
}
