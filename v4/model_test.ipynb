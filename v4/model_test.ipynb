{
 "cells": [
  {
   "cell_type": "code",
   "execution_count": 405,
   "id": "a168be92",
   "metadata": {},
   "outputs": [],
   "source": [
    "import torch\n",
    "import torch.nn as nn\n",
    "import math\n",
    "from torch.nn import functional as F\n",
    "from model import DownSample, UpSample\n",
    "\n",
    "class Unet_model(nn.Module):\n",
    "    def __init__(\n",
    "        self, input_channel=1, out_channel=32, complex_input=True, log_flag=True, subband_flag=False):\n",
    "        super().__init__()\n",
    "        self.complex_input = complex_input\n",
    "        self.log_flag = log_flag\n",
    "        self.subband_flag = subband_flag\n",
    "        \n",
    "        self.down_1 = DownSample(\n",
    "                input_channel=20,\n",
    "                out_channel=64, \n",
    "                kernel_size=(4, 3), \n",
    "                stride=(4, 1),\n",
    "                activation = nn.GELU(),\n",
    "                normalization = nn.BatchNorm2d(64)\n",
    "            )\n",
    "        \n",
    "        self.down_2 = DownSample(\n",
    "                input_channel=64,\n",
    "                out_channel=128, \n",
    "                kernel_size=(4, 3), \n",
    "                stride=(4, 1),\n",
    "                activation = nn.GELU(),\n",
    "                normalization = nn.BatchNorm2d(128)\n",
    "            )\n",
    "        \n",
    "        self.lstm = nn.LSTM(input_size=256, \n",
    "                            hidden_size=256, \n",
    "                            num_layers=1, \n",
    "                            batch_first=True)\n",
    "        \n",
    "        \n",
    "        self.up_1 = UpSample(\n",
    "            input_channel=128+128, \n",
    "            out_channel=64, \n",
    "            kernel_size=(6, 3), \n",
    "            stride=(4, 1),\n",
    "            activation = nn.GELU(),\n",
    "            normalization = nn.BatchNorm2d(64)\n",
    "        )    \n",
    "        \n",
    "\n",
    "        self.up_2 = UpSample(\n",
    "            input_channel=64+64, \n",
    "            out_channel=32, \n",
    "            kernel_size=(4, 3), \n",
    "            stride=(4, 1),\n",
    "            activation = nn.GELU(),\n",
    "            normalization = nn.BatchNorm2d(32)\n",
    "        )   \n",
    "        \n",
    "        self.final_conv = nn.Sequential(\n",
    "            nn.Conv2d(32, 128, 1, 1, 0, bias=False),\n",
    "            nn.GELU(),\n",
    "            nn.Conv2d(128, 5, 1, 1, 0, bias=False)\n",
    "        )\n",
    "#         self.fc = nn.Sequential(\n",
    "#             nn.Linear(40*32, 40*32),\n",
    "#             nn.Sigmoid()\n",
    "#         )\n",
    "    \n",
    "    def cac2cws(self, x):\n",
    "        k = 5\n",
    "        b,c,f,t = x.shape\n",
    "        x = x.reshape(b,c,k,f//k,t)\n",
    "        x = x.reshape(b,c*k,f//k,t)\n",
    "        return x\n",
    "    \n",
    "    def cws2cac(self, x):\n",
    "        k = 5\n",
    "        b,c,f,t = x.shape\n",
    "        x = x.reshape(b,c//k,k,f,t)\n",
    "        x = x.reshape(b,c//k,f*k,t)\n",
    "        return x\n",
    "    \n",
    "    def forward(self, x):\n",
    "        B, C, F, T = x.shape\n",
    "        \n",
    "        if self.complex_input:\n",
    "            x = torch.concat([x.real, x.imag], dim=1)\n",
    "        elif self.log_flag:\n",
    "            x = torch.log(x + 1e-5)\n",
    "        \n",
    "        if self.subband_flag:\n",
    "            x = self.cac2cws(x)\n",
    "        print(x.shape)\n",
    "        x1 = self.down_1(x)\n",
    "        x2 = self.down_2(x1)        \n",
    "        _, C_c, F_c, _ = x2.shape\n",
    "        x = x2.view(B, -1, T).permute(0, 2, 1) # (B, C, F, T) -> (B, C*F, T) -> (B, T, C*F)\n",
    "        \n",
    "        x = self.lstm(x)[0] + x\n",
    "        \n",
    "        x = x.permute(0, 2, 1).view(B, C_c, F_c, T)\n",
    "        x = self.up_1(torch.concat([x, x2],dim=1))\n",
    "        x = self.up_2(torch.concat([x, x1],dim=1))\n",
    "        #x = self.final_conv(x)\n",
    "        #x = self.cws2cac(x)\n",
    "        x = x.view(B, -1, T).permute(0, 2, 1)\n",
    "        #x = self.fc(x)\n",
    "        \n",
    "        return x#x.view(B, 1, F, T)"
   ]
  },
  {
   "cell_type": "code",
   "execution_count": 406,
   "id": "591959f0",
   "metadata": {},
   "outputs": [
    {
     "data": {
      "text/plain": [
       "1600"
      ]
     },
     "execution_count": 406,
     "metadata": {},
     "output_type": "execute_result"
    }
   ],
   "source": [
    "40*40"
   ]
  },
  {
   "cell_type": "code",
   "execution_count": 407,
   "id": "355cbc2d",
   "metadata": {},
   "outputs": [],
   "source": [
    "real = torch.rand(1, 2, 200, 357)\n",
    "imag = torch.rand(1, 2, 200, 357)\n",
    "z = torch.complex(real, imag)"
   ]
  },
  {
   "cell_type": "code",
   "execution_count": 408,
   "id": "cdea8aea",
   "metadata": {},
   "outputs": [
    {
     "data": {
      "text/plain": [
       "torch.Size([1, 2, 200, 357])"
      ]
     },
     "execution_count": 408,
     "metadata": {},
     "output_type": "execute_result"
    }
   ],
   "source": [
    "z.shape"
   ]
  },
  {
   "cell_type": "code",
   "execution_count": 413,
   "id": "aa553e1f",
   "metadata": {},
   "outputs": [
    {
     "data": {
      "text/plain": [
       "989664"
      ]
     },
     "execution_count": 413,
     "metadata": {},
     "output_type": "execute_result"
    }
   ],
   "source": [
    "sum(p.numel() for p in m.parameters() if p.requires_grad)"
   ]
  },
  {
   "cell_type": "code",
   "execution_count": 410,
   "id": "3092c91d",
   "metadata": {},
   "outputs": [],
   "source": [
    "m = Unet_model(subband_flag=True)"
   ]
  },
  {
   "cell_type": "code",
   "execution_count": 411,
   "id": "ee33ac2a",
   "metadata": {},
   "outputs": [
    {
     "name": "stdout",
     "output_type": "stream",
     "text": [
      "torch.Size([1, 20, 40, 357])\n"
     ]
    },
    {
     "data": {
      "text/plain": [
       "torch.Size([1, 357, 1280])"
      ]
     },
     "execution_count": 411,
     "metadata": {},
     "output_type": "execute_result"
    }
   ],
   "source": [
    "#%%timeit\n",
    "m(z).shape"
   ]
  },
  {
   "cell_type": "code",
   "execution_count": 412,
   "id": "7c7c02e3",
   "metadata": {},
   "outputs": [
    {
     "data": {
      "text/plain": [
       "200"
      ]
     },
     "execution_count": 412,
     "metadata": {},
     "output_type": "execute_result"
    }
   ],
   "source": [
    "5 * 40"
   ]
  },
  {
   "cell_type": "code",
   "execution_count": null,
   "id": "7f401a4c",
   "metadata": {},
   "outputs": [],
   "source": [
    "1280 -> 5, 40"
   ]
  },
  {
   "cell_type": "code",
   "execution_count": 399,
   "id": "445f0080",
   "metadata": {},
   "outputs": [
    {
     "name": "stdout",
     "output_type": "stream",
     "text": [
      "torch.Size([1, 20, 40, 357])\n"
     ]
    },
    {
     "ename": "RuntimeError",
     "evalue": "Given groups=1, weight of size [128, 32, 1, 1], expected input[1, 1, 200, 357] to have 32 channels, but got 1 channels instead",
     "output_type": "error",
     "traceback": [
      "\u001b[1;31m---------------------------------------------------------------------------\u001b[0m",
      "\u001b[1;31mRuntimeError\u001b[0m                              Traceback (most recent call last)",
      "Cell \u001b[1;32mIn[399], line 1\u001b[0m\n\u001b[1;32m----> 1\u001b[0m \u001b[43mm\u001b[49m\u001b[38;5;241;43m.\u001b[39;49m\u001b[43mfinal_conv\u001b[49m\u001b[43m(\u001b[49m\u001b[43mm\u001b[49m\u001b[43m(\u001b[49m\u001b[43mz\u001b[49m\u001b[43m)\u001b[49m\u001b[43m)\u001b[49m\u001b[38;5;241m.\u001b[39mshape\n",
      "File \u001b[1;32m~\\venv_n\\lib\\site-packages\\torch\\nn\\modules\\module.py:1553\u001b[0m, in \u001b[0;36mModule._wrapped_call_impl\u001b[1;34m(self, *args, **kwargs)\u001b[0m\n\u001b[0;32m   1551\u001b[0m     \u001b[38;5;28;01mreturn\u001b[39;00m \u001b[38;5;28mself\u001b[39m\u001b[38;5;241m.\u001b[39m_compiled_call_impl(\u001b[38;5;241m*\u001b[39margs, \u001b[38;5;241m*\u001b[39m\u001b[38;5;241m*\u001b[39mkwargs)  \u001b[38;5;66;03m# type: ignore[misc]\u001b[39;00m\n\u001b[0;32m   1552\u001b[0m \u001b[38;5;28;01melse\u001b[39;00m:\n\u001b[1;32m-> 1553\u001b[0m     \u001b[38;5;28;01mreturn\u001b[39;00m \u001b[38;5;28mself\u001b[39m\u001b[38;5;241m.\u001b[39m_call_impl(\u001b[38;5;241m*\u001b[39margs, \u001b[38;5;241m*\u001b[39m\u001b[38;5;241m*\u001b[39mkwargs)\n",
      "File \u001b[1;32m~\\venv_n\\lib\\site-packages\\torch\\nn\\modules\\module.py:1562\u001b[0m, in \u001b[0;36mModule._call_impl\u001b[1;34m(self, *args, **kwargs)\u001b[0m\n\u001b[0;32m   1557\u001b[0m \u001b[38;5;66;03m# If we don't have any hooks, we want to skip the rest of the logic in\u001b[39;00m\n\u001b[0;32m   1558\u001b[0m \u001b[38;5;66;03m# this function, and just call forward.\u001b[39;00m\n\u001b[0;32m   1559\u001b[0m \u001b[38;5;28;01mif\u001b[39;00m \u001b[38;5;129;01mnot\u001b[39;00m (\u001b[38;5;28mself\u001b[39m\u001b[38;5;241m.\u001b[39m_backward_hooks \u001b[38;5;129;01mor\u001b[39;00m \u001b[38;5;28mself\u001b[39m\u001b[38;5;241m.\u001b[39m_backward_pre_hooks \u001b[38;5;129;01mor\u001b[39;00m \u001b[38;5;28mself\u001b[39m\u001b[38;5;241m.\u001b[39m_forward_hooks \u001b[38;5;129;01mor\u001b[39;00m \u001b[38;5;28mself\u001b[39m\u001b[38;5;241m.\u001b[39m_forward_pre_hooks\n\u001b[0;32m   1560\u001b[0m         \u001b[38;5;129;01mor\u001b[39;00m _global_backward_pre_hooks \u001b[38;5;129;01mor\u001b[39;00m _global_backward_hooks\n\u001b[0;32m   1561\u001b[0m         \u001b[38;5;129;01mor\u001b[39;00m _global_forward_hooks \u001b[38;5;129;01mor\u001b[39;00m _global_forward_pre_hooks):\n\u001b[1;32m-> 1562\u001b[0m     \u001b[38;5;28;01mreturn\u001b[39;00m forward_call(\u001b[38;5;241m*\u001b[39margs, \u001b[38;5;241m*\u001b[39m\u001b[38;5;241m*\u001b[39mkwargs)\n\u001b[0;32m   1564\u001b[0m \u001b[38;5;28;01mtry\u001b[39;00m:\n\u001b[0;32m   1565\u001b[0m     result \u001b[38;5;241m=\u001b[39m \u001b[38;5;28;01mNone\u001b[39;00m\n",
      "File \u001b[1;32m~\\venv_n\\lib\\site-packages\\torch\\nn\\modules\\container.py:219\u001b[0m, in \u001b[0;36mSequential.forward\u001b[1;34m(self, input)\u001b[0m\n\u001b[0;32m    217\u001b[0m \u001b[38;5;28;01mdef\u001b[39;00m \u001b[38;5;21mforward\u001b[39m(\u001b[38;5;28mself\u001b[39m, \u001b[38;5;28minput\u001b[39m):\n\u001b[0;32m    218\u001b[0m     \u001b[38;5;28;01mfor\u001b[39;00m module \u001b[38;5;129;01min\u001b[39;00m \u001b[38;5;28mself\u001b[39m:\n\u001b[1;32m--> 219\u001b[0m         \u001b[38;5;28minput\u001b[39m \u001b[38;5;241m=\u001b[39m \u001b[43mmodule\u001b[49m\u001b[43m(\u001b[49m\u001b[38;5;28;43minput\u001b[39;49m\u001b[43m)\u001b[49m\n\u001b[0;32m    220\u001b[0m     \u001b[38;5;28;01mreturn\u001b[39;00m \u001b[38;5;28minput\u001b[39m\n",
      "File \u001b[1;32m~\\venv_n\\lib\\site-packages\\torch\\nn\\modules\\module.py:1553\u001b[0m, in \u001b[0;36mModule._wrapped_call_impl\u001b[1;34m(self, *args, **kwargs)\u001b[0m\n\u001b[0;32m   1551\u001b[0m     \u001b[38;5;28;01mreturn\u001b[39;00m \u001b[38;5;28mself\u001b[39m\u001b[38;5;241m.\u001b[39m_compiled_call_impl(\u001b[38;5;241m*\u001b[39margs, \u001b[38;5;241m*\u001b[39m\u001b[38;5;241m*\u001b[39mkwargs)  \u001b[38;5;66;03m# type: ignore[misc]\u001b[39;00m\n\u001b[0;32m   1552\u001b[0m \u001b[38;5;28;01melse\u001b[39;00m:\n\u001b[1;32m-> 1553\u001b[0m     \u001b[38;5;28;01mreturn\u001b[39;00m \u001b[38;5;28mself\u001b[39m\u001b[38;5;241m.\u001b[39m_call_impl(\u001b[38;5;241m*\u001b[39margs, \u001b[38;5;241m*\u001b[39m\u001b[38;5;241m*\u001b[39mkwargs)\n",
      "File \u001b[1;32m~\\venv_n\\lib\\site-packages\\torch\\nn\\modules\\module.py:1562\u001b[0m, in \u001b[0;36mModule._call_impl\u001b[1;34m(self, *args, **kwargs)\u001b[0m\n\u001b[0;32m   1557\u001b[0m \u001b[38;5;66;03m# If we don't have any hooks, we want to skip the rest of the logic in\u001b[39;00m\n\u001b[0;32m   1558\u001b[0m \u001b[38;5;66;03m# this function, and just call forward.\u001b[39;00m\n\u001b[0;32m   1559\u001b[0m \u001b[38;5;28;01mif\u001b[39;00m \u001b[38;5;129;01mnot\u001b[39;00m (\u001b[38;5;28mself\u001b[39m\u001b[38;5;241m.\u001b[39m_backward_hooks \u001b[38;5;129;01mor\u001b[39;00m \u001b[38;5;28mself\u001b[39m\u001b[38;5;241m.\u001b[39m_backward_pre_hooks \u001b[38;5;129;01mor\u001b[39;00m \u001b[38;5;28mself\u001b[39m\u001b[38;5;241m.\u001b[39m_forward_hooks \u001b[38;5;129;01mor\u001b[39;00m \u001b[38;5;28mself\u001b[39m\u001b[38;5;241m.\u001b[39m_forward_pre_hooks\n\u001b[0;32m   1560\u001b[0m         \u001b[38;5;129;01mor\u001b[39;00m _global_backward_pre_hooks \u001b[38;5;129;01mor\u001b[39;00m _global_backward_hooks\n\u001b[0;32m   1561\u001b[0m         \u001b[38;5;129;01mor\u001b[39;00m _global_forward_hooks \u001b[38;5;129;01mor\u001b[39;00m _global_forward_pre_hooks):\n\u001b[1;32m-> 1562\u001b[0m     \u001b[38;5;28;01mreturn\u001b[39;00m forward_call(\u001b[38;5;241m*\u001b[39margs, \u001b[38;5;241m*\u001b[39m\u001b[38;5;241m*\u001b[39mkwargs)\n\u001b[0;32m   1564\u001b[0m \u001b[38;5;28;01mtry\u001b[39;00m:\n\u001b[0;32m   1565\u001b[0m     result \u001b[38;5;241m=\u001b[39m \u001b[38;5;28;01mNone\u001b[39;00m\n",
      "File \u001b[1;32m~\\venv_n\\lib\\site-packages\\torch\\nn\\modules\\conv.py:458\u001b[0m, in \u001b[0;36mConv2d.forward\u001b[1;34m(self, input)\u001b[0m\n\u001b[0;32m    457\u001b[0m \u001b[38;5;28;01mdef\u001b[39;00m \u001b[38;5;21mforward\u001b[39m(\u001b[38;5;28mself\u001b[39m, \u001b[38;5;28minput\u001b[39m: Tensor) \u001b[38;5;241m-\u001b[39m\u001b[38;5;241m>\u001b[39m Tensor:\n\u001b[1;32m--> 458\u001b[0m     \u001b[38;5;28;01mreturn\u001b[39;00m \u001b[38;5;28;43mself\u001b[39;49m\u001b[38;5;241;43m.\u001b[39;49m\u001b[43m_conv_forward\u001b[49m\u001b[43m(\u001b[49m\u001b[38;5;28;43minput\u001b[39;49m\u001b[43m,\u001b[49m\u001b[43m \u001b[49m\u001b[38;5;28;43mself\u001b[39;49m\u001b[38;5;241;43m.\u001b[39;49m\u001b[43mweight\u001b[49m\u001b[43m,\u001b[49m\u001b[43m \u001b[49m\u001b[38;5;28;43mself\u001b[39;49m\u001b[38;5;241;43m.\u001b[39;49m\u001b[43mbias\u001b[49m\u001b[43m)\u001b[49m\n",
      "File \u001b[1;32m~\\venv_n\\lib\\site-packages\\torch\\nn\\modules\\conv.py:454\u001b[0m, in \u001b[0;36mConv2d._conv_forward\u001b[1;34m(self, input, weight, bias)\u001b[0m\n\u001b[0;32m    450\u001b[0m \u001b[38;5;28;01mif\u001b[39;00m \u001b[38;5;28mself\u001b[39m\u001b[38;5;241m.\u001b[39mpadding_mode \u001b[38;5;241m!=\u001b[39m \u001b[38;5;124m'\u001b[39m\u001b[38;5;124mzeros\u001b[39m\u001b[38;5;124m'\u001b[39m:\n\u001b[0;32m    451\u001b[0m     \u001b[38;5;28;01mreturn\u001b[39;00m F\u001b[38;5;241m.\u001b[39mconv2d(F\u001b[38;5;241m.\u001b[39mpad(\u001b[38;5;28minput\u001b[39m, \u001b[38;5;28mself\u001b[39m\u001b[38;5;241m.\u001b[39m_reversed_padding_repeated_twice, mode\u001b[38;5;241m=\u001b[39m\u001b[38;5;28mself\u001b[39m\u001b[38;5;241m.\u001b[39mpadding_mode),\n\u001b[0;32m    452\u001b[0m                     weight, bias, \u001b[38;5;28mself\u001b[39m\u001b[38;5;241m.\u001b[39mstride,\n\u001b[0;32m    453\u001b[0m                     _pair(\u001b[38;5;241m0\u001b[39m), \u001b[38;5;28mself\u001b[39m\u001b[38;5;241m.\u001b[39mdilation, \u001b[38;5;28mself\u001b[39m\u001b[38;5;241m.\u001b[39mgroups)\n\u001b[1;32m--> 454\u001b[0m \u001b[38;5;28;01mreturn\u001b[39;00m \u001b[43mF\u001b[49m\u001b[38;5;241;43m.\u001b[39;49m\u001b[43mconv2d\u001b[49m\u001b[43m(\u001b[49m\u001b[38;5;28;43minput\u001b[39;49m\u001b[43m,\u001b[49m\u001b[43m \u001b[49m\u001b[43mweight\u001b[49m\u001b[43m,\u001b[49m\u001b[43m \u001b[49m\u001b[43mbias\u001b[49m\u001b[43m,\u001b[49m\u001b[43m \u001b[49m\u001b[38;5;28;43mself\u001b[39;49m\u001b[38;5;241;43m.\u001b[39;49m\u001b[43mstride\u001b[49m\u001b[43m,\u001b[49m\n\u001b[0;32m    455\u001b[0m \u001b[43m                \u001b[49m\u001b[38;5;28;43mself\u001b[39;49m\u001b[38;5;241;43m.\u001b[39;49m\u001b[43mpadding\u001b[49m\u001b[43m,\u001b[49m\u001b[43m \u001b[49m\u001b[38;5;28;43mself\u001b[39;49m\u001b[38;5;241;43m.\u001b[39;49m\u001b[43mdilation\u001b[49m\u001b[43m,\u001b[49m\u001b[43m \u001b[49m\u001b[38;5;28;43mself\u001b[39;49m\u001b[38;5;241;43m.\u001b[39;49m\u001b[43mgroups\u001b[49m\u001b[43m)\u001b[49m\n",
      "\u001b[1;31mRuntimeError\u001b[0m: Given groups=1, weight of size [128, 32, 1, 1], expected input[1, 1, 200, 357] to have 32 channels, but got 1 channels instead"
     ]
    }
   ],
   "source": [
    "m.final_conv(m(z)).shape"
   ]
  },
  {
   "cell_type": "code",
   "execution_count": 290,
   "id": "710451ba",
   "metadata": {},
   "outputs": [
    {
     "data": {
      "text/plain": [
       "torch.Size([1, 20, 40, 357])"
      ]
     },
     "execution_count": 290,
     "metadata": {},
     "output_type": "execute_result"
    }
   ],
   "source": [
    "Unet_model().cac2cws(z).shape"
   ]
  },
  {
   "cell_type": "code",
   "execution_count": null,
   "id": "c5ed6684",
   "metadata": {},
   "outputs": [],
   "source": []
  },
  {
   "cell_type": "code",
   "execution_count": 69,
   "id": "65588ea0",
   "metadata": {},
   "outputs": [],
   "source": [
    "down_1 = DownSample(\n",
    "                input_channel=10,\n",
    "                out_channel=128, \n",
    "                kernel_size=(4, 3), \n",
    "                stride=(4, 1),\n",
    "                activation = nn.GELU(),\n",
    "                normalization = nn.BatchNorm2d(128)\n",
    "            )"
   ]
  },
  {
   "cell_type": "code",
   "execution_count": 76,
   "id": "e60161a6",
   "metadata": {},
   "outputs": [],
   "source": [
    "down_2 = DownSample(\n",
    "                input_channel=128,\n",
    "                out_channel=256, \n",
    "                kernel_size=(4, 3), \n",
    "                stride=(4, 1),\n",
    "                activation = nn.GELU(),\n",
    "                normalization = nn.BatchNorm2d(256)\n",
    "            )"
   ]
  },
  {
   "cell_type": "code",
   "execution_count": 77,
   "id": "0553d78c",
   "metadata": {},
   "outputs": [
    {
     "data": {
      "text/plain": [
       "torch.Size([1, 256, 2, 100])"
      ]
     },
     "execution_count": 77,
     "metadata": {},
     "output_type": "execute_result"
    }
   ],
   "source": [
    "down_2(down_1(torch.rand((1, 10, 40, 100)))).shape"
   ]
  },
  {
   "cell_type": "code",
   "execution_count": 94,
   "id": "addd37ed",
   "metadata": {},
   "outputs": [],
   "source": [
    "up_1 = UpSample(\n",
    "            input_channel=256, \n",
    "            out_channel=128, \n",
    "            kernel_size=(4, 3), \n",
    "            stride=(4, 1),\n",
    "            activation = nn.GELU(),\n",
    "            normalization = nn.BatchNorm2d(128)\n",
    "        )    "
   ]
  },
  {
   "cell_type": "code",
   "execution_count": 95,
   "id": "11111029",
   "metadata": {},
   "outputs": [],
   "source": [
    "up_2 = UpSample(\n",
    "            input_channel=128, \n",
    "            out_channel=32, \n",
    "            kernel_size=(4, 3), \n",
    "            stride=(4, 1),\n",
    "            activation = nn.GELU(),\n",
    "            normalization = nn.BatchNorm2d(32)\n",
    "        )    "
   ]
  },
  {
   "cell_type": "code",
   "execution_count": 96,
   "id": "2d6abf2d",
   "metadata": {},
   "outputs": [
    {
     "data": {
      "text/plain": [
       "torch.Size([1, 32, 32, 100])"
      ]
     },
     "execution_count": 96,
     "metadata": {},
     "output_type": "execute_result"
    }
   ],
   "source": [
    "up_2(up_1(down_2(down_1(torch.rand((1, 10, 40, 100)))))).shape"
   ]
  },
  {
   "cell_type": "code",
   "execution_count": 97,
   "id": "e55c563a",
   "metadata": {},
   "outputs": [
    {
     "data": {
      "text/plain": [
       "1024"
      ]
     },
     "execution_count": 97,
     "metadata": {},
     "output_type": "execute_result"
    }
   ],
   "source": [
    "32*32"
   ]
  },
  {
   "cell_type": "code",
   "execution_count": null,
   "id": "e36f9df7",
   "metadata": {},
   "outputs": [],
   "source": []
  }
 ],
 "metadata": {
  "kernelspec": {
   "display_name": "Python 3 (ipykernel)",
   "language": "python",
   "name": "python3"
  },
  "language_info": {
   "codemirror_mode": {
    "name": "ipython",
    "version": 3
   },
   "file_extension": ".py",
   "mimetype": "text/x-python",
   "name": "python",
   "nbconvert_exporter": "python",
   "pygments_lexer": "ipython3",
   "version": "3.10.6"
  }
 },
 "nbformat": 4,
 "nbformat_minor": 5
}
