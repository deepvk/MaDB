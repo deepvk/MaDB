{
 "cells": [
  {
   "cell_type": "code",
   "execution_count": 1,
   "id": "95935d08-2716-4155-89f8-07d52bd0c049",
   "metadata": {},
   "outputs": [],
   "source": [
    "import numpy as np\n",
    "import matplotlib.pyplot as plt\n",
    "import pyroomacoustics as pra\n",
    "from IPython.display import Audio\n",
    "from scipy.io import wavfile\n",
    "import torchaudio\n",
    "from tqdm import tqdm"
   ]
  },
  {
   "cell_type": "code",
   "execution_count": 2,
   "id": "0edf28e2-7e8a-48e3-a263-d980dcdf9dcf",
   "metadata": {},
   "outputs": [
    {
     "name": "stderr",
     "output_type": "stream",
     "text": [
      "<>:1: SyntaxWarning: invalid escape sequence '\\d'\n",
      "<>:1: SyntaxWarning: invalid escape sequence '\\d'\n",
      "C:\\Users\\maksim.groshev\\AppData\\Local\\Temp\\ipykernel_12264\\2569675378.py:1: SyntaxWarning: invalid escape sequence '\\d'\n",
      "  data = torchaudio.datasets.LIBRISPEECH(root='.\\data_libri', url='train-clean-100', download=False)\n"
     ]
    }
   ],
   "source": [
    "data = torchaudio.datasets.LIBRISPEECH(root='.\\data_libri', url='train-clean-100', download=False)"
   ]
  },
  {
   "cell_type": "code",
   "execution_count": 3,
   "id": "f62e388b-f284-4589-bf9b-d3166f664f1b",
   "metadata": {},
   "outputs": [
    {
     "data": {
      "text/plain": [
       "28539"
      ]
     },
     "execution_count": 3,
     "metadata": {},
     "output_type": "execute_result"
    }
   ],
   "source": [
    "len(data)"
   ]
  },
  {
   "cell_type": "code",
   "execution_count": 4,
   "id": "9f957718-dc3f-48fa-8da1-c1926f54a623",
   "metadata": {},
   "outputs": [],
   "source": [
    "def generate_data(audio, fs):\n",
    "    # характеристики комнаты\n",
    "    width = np.random.randint(2, 9)  # ширина\n",
    "    length = np.random.randint(2, 9) # длина\n",
    "    height = np.random.randint(2, 6) # высота\n",
    "\n",
    "    rt60 = np.round(np.random.uniform(0.3, 0.7), 2) # временя, которое требуется RIR для затухания на 60 дБ\n",
    "    e_absorption, max_order = pra.inverse_sabine(rt60, [width, length, height]) # поглощение энергии стенкой\n",
    "    room = pra.ShoeBox([width, length, height], materials=pra.Material(e_absorption), max_order=max_order, fs=fs)\n",
    "    \n",
    "    # характеристики источника\n",
    "    source_x, source_y, source_z = np.random.randint(0, width), np.random.randint(0, length), np.random.randint(0, height) # координаты источников\n",
    "    room.add_source([source_x, source_y, source_z], signal=audio, delay=0.0)\n",
    "\n",
    "    interval = np.round(np.random.uniform(0.05, 1), 2) # интервал микрофонов от 5 см до 1 метра\n",
    "    count_microphone = 4 #np.random.randint(1, 5) # количество микрофонов\n",
    "    \n",
    "    # характеристики микрофонов\n",
    "    mic_x, mic_y, mic_z = np.random.uniform(0, width), np.random.uniform(0, length), np.random.uniform(0, height) #начальные координаты микрофона\n",
    "    R = pra.linear_2D_array([mic_x, mic_y], count_microphone, 0, interval) # массив микрофонов (линия)\n",
    "    mic_locs = np.row_stack((R, np.zeros(count_microphone) + mic_z)) # координаты в пространстве микрофонов\n",
    "\n",
    "    count_iter = 0\n",
    "    while not(room.is_inside(mic_locs.T)): # генерируем кординаты микрофонов: пока все мик. не будут в комнате\n",
    "        \n",
    "        mic_x, mic_y, mic_z = np.random.uniform(0, width), np.random.uniform(0, length), np.random.uniform(0, height)\n",
    "        R = pra.linear_2D_array([mic_x, mic_y], count_microphone, 0, interval)\n",
    "        \n",
    "        mic_locs = np.row_stack((R, np.zeros(count_microphone)+mic_z))\n",
    "        count_iter += 1\n",
    "        if count_iter > 15: # если в течении 15 итераций не удается сегнерировать координаты микрофонов, то изменяем интервал\n",
    "            interval = np.round(np.random.uniform(0.05, 1), 2)\n",
    "        \n",
    "    room.add_microphone_array(mic_locs)\n",
    "    \n",
    "    return room, width, length, height"
   ]
  },
  {
   "cell_type": "code",
   "execution_count": 5,
   "id": "4dcb6b70-5050-4673-989d-41b2bdd64fe9",
   "metadata": {},
   "outputs": [],
   "source": [
    "def data_simultate(room, path_save_audio):\n",
    "    room.simulate()\n",
    "    room.mic_array.to_wav(\n",
    "    f\"{path_save_audio}.wav\"\n",
    "    )"
   ]
  },
  {
   "cell_type": "markdown",
   "id": "1704a30a-a7b7-497c-8461-2004fc97b360",
   "metadata": {},
   "source": [
    "# train data"
   ]
  },
  {
   "cell_type": "code",
   "execution_count": 6,
   "id": "8482d2b5-041a-4529-a113-cc34c8efdf4e",
   "metadata": {},
   "outputs": [],
   "source": [
    "# import random"
   ]
  },
  {
   "cell_type": "code",
   "execution_count": 7,
   "id": "f72f572a-ccdb-4a46-a84d-ecad03c84fa6",
   "metadata": {},
   "outputs": [
    {
     "name": "stdout",
     "output_type": "stream",
     "text": [
      "[27218, 26096, 15903, 22103, 10624, 25629, 21540, 21714, 5626, 27034, 5687, 4697, 2636, 16320, 24052, 11294, 24084, 24226, 16324, 17292, 23719, 7433, 11127, 25599, 5561, 16708, 15578, 3462, 11928, 21851, 23698, 19915, 10250, 7372, 22287, 24293, 5660, 18809, 4842, 15142, 23051, 20882, 3710, 23825, 1168, 7102, 14502, 24799, 249, 8199, 9947, 3893, 24800, 28083, 13133, 1746, 26871, 17835, 21442, 7338, 11075, 11837, 27403, 22283, 8229, 12762, 14973, 25500, 22422, 6285, 23319, 1518, 19459, 14187, 6633, 8875, 27115, 19026, 5040, 1758, 10530, 8617, 23093, 5108, 7616, 8266, 6538, 19643, 15672, 4923, 4208, 2075, 9275, 25038, 20803, 14409, 15971, 3045, 13613, 23741, 11557, 25950, 26720, 2652, 12562, 18522, 21396, 19624, 25395, 10159, 5280, 12162, 24960, 5812, 21813, 17635, 28198, 8089, 23679, 6018, 4779, 13170, 25986, 13077, 6741, 15074, 16615, 23713, 9578, 18454, 6823, 1237, 5017, 21365, 21256, 20614, 13351, 27619, 15947, 19067, 10514, 707, 4240, 7223, 24366, 20362, 175, 21083, 2235, 21506, 23692, 27945, 25100, 20169, 20804, 21663, 12961, 15608, 1514, 16141, 6076, 2289, 13190, 7119, 2764, 13803, 17606, 19377, 19912, 5937, 20779, 22739, 7827, 22630, 26091, 18707, 8216, 18022, 26883, 25259, 24987, 18665, 16497, 805, 9348, 17588, 16081, 11752, 22092, 10820, 22812, 1309, 12390, 10927, 26427, 1665, 16858, 7052, 24735, 5300, 5662, 20397, 15089, 24065, 24638, 15465, 7311, 24248, 26662, 19131, 8828, 22275, 8355, 20028, 20470, 4165, 971, 26893, 4141, 8259, 10884, 22540, 9441, 4629, 830, 16206, 8699, 4742, 21276, 2002, 13042, 13538, 24214, 10438, 8697, 16259, 7639, 17353, 20901, 10724, 5926, 11476, 13464, 27850, 13438, 22865, 330, 26460, 14712, 26793]\n"
     ]
    }
   ],
   "source": [
    "# n = 250\n",
    "\n",
    "# numbers = list(range(len(data)))\n",
    "\n",
    "# selected_numbers = random.sample(numbers, k=n)\n",
    "# print(selected_numbers)"
   ]
  },
  {
   "cell_type": "code",
   "execution_count": 19,
   "id": "a7d62ca3-6b1d-46d1-8c1c-61893b0d9e69",
   "metadata": {},
   "outputs": [
    {
     "name": "stderr",
     "output_type": "stream",
     "text": [
      "100%|████████████████████████████████████████████████████████████████████████████████| 250/250 [03:59<00:00,  1.04it/s]\n"
     ]
    }
   ],
   "source": [
    "# for idx in tqdm(selected_numbers):\n",
    "#     signal = data[idx][0][0].numpy()\n",
    "#     wavfile.write(f\"./beam_data/train/target/{idx}.wav\", 16000, signal)\n",
    "\n",
    "#     r, width, length, height = generate_data(signal, 16000)\n",
    "#     data_simultate(r, f\"./beam_data/train/mic/{idx}\" )"
   ]
  },
  {
   "cell_type": "code",
   "execution_count": 20,
   "id": "7a2af3b5-e964-4bf7-818f-0ed84ce26aa0",
   "metadata": {},
   "outputs": [],
   "source": [
    "#  valid_set = list(set(numbers) - set(selected_numbers))"
   ]
  },
  {
   "cell_type": "markdown",
   "id": "68782dc0-6e67-4060-95d6-c0383c18e2b9",
   "metadata": {},
   "source": [
    "# valid data"
   ]
  },
  {
   "cell_type": "code",
   "execution_count": 10,
   "id": "dfd8a299-f074-469c-9789-f7777e756582",
   "metadata": {},
   "outputs": [],
   "source": [
    "# n = 50"
   ]
  },
  {
   "cell_type": "code",
   "execution_count": 11,
   "id": "997c7d56-2c8b-4379-ab6a-63a244d6ace7",
   "metadata": {},
   "outputs": [],
   "source": [
    "# valid_samples = random.sample(valid_set, k=n)"
   ]
  },
  {
   "cell_type": "code",
   "execution_count": 21,
   "id": "dd8dd7b9-e676-413a-9bd2-d46c5846fa45",
   "metadata": {},
   "outputs": [
    {
     "name": "stderr",
     "output_type": "stream",
     "text": [
      "100%|██████████████████████████████████████████████████████████████████████████████████| 50/50 [00:55<00:00,  1.10s/it]\n"
     ]
    }
   ],
   "source": [
    "# for idx in tqdm(valid_samples):\n",
    "#     signal = data[idx][0][0].numpy()\n",
    "#     wavfile.write(f\"./beam_data/valid/target/{idx}.wav\", 16000, signal)\n",
    "\n",
    "#     r, width, length, height = generate_data(signal, 16000)\n",
    "#     data_simultate(r, f\"./beam_data/valid/mic/{idx}\" )"
   ]
  },
  {
   "cell_type": "code",
   "execution_count": 22,
   "id": "9eef6bda-3470-4275-ac5c-3c00810da5d4",
   "metadata": {},
   "outputs": [],
   "source": [
    "# import os"
   ]
  },
  {
   "cell_type": "code",
   "execution_count": 25,
   "id": "78d49e0f-17c1-41e2-9c55-1bd48d27ff5d",
   "metadata": {},
   "outputs": [
    {
     "data": {
      "text/plain": [
       "50"
      ]
     },
     "execution_count": 25,
     "metadata": {},
     "output_type": "execute_result"
    }
   ],
   "source": [
    "# len(os.listdir('./beam_data/valid/target'))"
   ]
  },
  {
   "cell_type": "code",
   "execution_count": null,
   "id": "97ed49f2-83db-46aa-814b-4cd06229acfd",
   "metadata": {},
   "outputs": [],
   "source": []
  }
 ],
 "metadata": {
  "kernelspec": {
   "display_name": "Python 3 (ipykernel)",
   "language": "python",
   "name": "python3"
  },
  "language_info": {
   "codemirror_mode": {
    "name": "ipython",
    "version": 3
   },
   "file_extension": ".py",
   "mimetype": "text/x-python",
   "name": "python",
   "nbconvert_exporter": "python",
   "pygments_lexer": "ipython3",
   "version": "3.10.6"
  }
 },
 "nbformat": 4,
 "nbformat_minor": 5
}
