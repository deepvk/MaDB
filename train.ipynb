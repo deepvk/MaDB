{
 "cells": [
  {
   "cell_type": "code",
   "execution_count": 5,
   "id": "afce2a1f",
   "metadata": {},
   "outputs": [],
   "source": [
    "import torchaudio as ta\n",
    "from torch.utils.data import Dataset\n",
    "\n",
    "import os\n",
    "import torch.nn.functional as F\n",
    "import torch.nn as nn\n",
    "import torch\n",
    "\n",
    "from pl_model import PL_model\n",
    "import pytorch_lightning as pl\n",
    "from pytorch_lightning.callbacks import ModelCheckpoint, LearningRateMonitor"
   ]
  },
  {
   "cell_type": "markdown",
   "id": "07c0ed4e",
   "metadata": {},
   "source": [
    "# data"
   ]
  },
  {
   "cell_type": "code",
   "execution_count": 6,
   "id": "45fd4e30",
   "metadata": {},
   "outputs": [],
   "source": [
    "class my_dataset(Dataset):\n",
    "    def __init__(self, path):\n",
    "        self.path_signal = os.listdir(f'{path}/mic')\n",
    "        self.path_target = f'{path}/target'\n",
    "        self.path_mic = f'{path}/mic'\n",
    "        \n",
    "    def __len__(self):\n",
    "        return len(self.path_signal)\n",
    "    \n",
    "    def __getitem__(self, idx):\n",
    "        path = self.path_signal[idx]\n",
    "        \n",
    "        target, sample_rate = ta.load(f'{self.path_target}/{path}')\n",
    "        mic_array, sample_rate = ta.load(f'{self.path_mic}/{path}')\n",
    "        \n",
    "        target = F.pad(target, (0, mic_array.shape[-1] - target.shape[-1]))\n",
    "        return target, mic_array"
   ]
  },
  {
   "cell_type": "markdown",
   "id": "8fa5b469",
   "metadata": {},
   "source": [
    "# train"
   ]
  },
  {
   "cell_type": "code",
   "execution_count": 7,
   "id": "38909c0a",
   "metadata": {},
   "outputs": [],
   "source": [
    "pl_m = PL_model(4)"
   ]
  },
  {
   "cell_type": "code",
   "execution_count": 8,
   "id": "8ae50604",
   "metadata": {},
   "outputs": [
    {
     "name": "stderr",
     "output_type": "stream",
     "text": [
      "GPU available: False, used: False\n",
      "TPU available: False, using: 0 TPU cores\n",
      "IPU available: False, using: 0 IPUs\n",
      "HPU available: False, using: 0 HPUs\n"
     ]
    }
   ],
   "source": [
    "lr_monitor = LearningRateMonitor(logging_interval=\"step\")\n",
    "checkpoint_callback = ModelCheckpoint(\n",
    "        monitor=\"valid_loss\",\n",
    "        mode='min',\n",
    "        save_top_k=1,\n",
    "    )\n",
    "\n",
    "trainer = pl.Trainer(\n",
    "        accelerator=\"cpu\",\n",
    "        devices=\"auto\",\n",
    "        max_epochs=1000,\n",
    "        accumulate_grad_batches=32, \n",
    "        callbacks=[checkpoint_callback, lr_monitor]\n",
    "    )"
   ]
  },
  {
   "cell_type": "code",
   "execution_count": 10,
   "id": "56128cf0",
   "metadata": {},
   "outputs": [],
   "source": [
    "data_train = my_dataset('./beam_data/train')\n",
    "data_valid = my_dataset('./beam_data/valid')"
   ]
  },
  {
   "cell_type": "code",
   "execution_count": 11,
   "id": "ccb4443e",
   "metadata": {},
   "outputs": [],
   "source": [
    "train_dl = torch.utils.data.DataLoader(\n",
    "        data_train,\n",
    "        batch_size=1,\n",
    "        shuffle=True,\n",
    "        num_workers=1,\n",
    "    )\n",
    "\n",
    "valid_dl = torch.utils.data.DataLoader(\n",
    "        data_valid,\n",
    "        batch_size=1,\n",
    "        shuffle=False,\n",
    "        num_workers=1,\n",
    "    )"
   ]
  },
  {
   "cell_type": "code",
   "execution_count": 13,
   "id": "d30453d1",
   "metadata": {},
   "outputs": [],
   "source": [
    "# trainer.fit(pl_m, train_dl, valid_dl)"
   ]
  },
  {
   "cell_type": "code",
   "execution_count": null,
   "id": "87547b32",
   "metadata": {},
   "outputs": [],
   "source": []
  }
 ],
 "metadata": {
  "kernelspec": {
   "display_name": "Python 3 (ipykernel)",
   "language": "python",
   "name": "python3"
  },
  "language_info": {
   "codemirror_mode": {
    "name": "ipython",
    "version": 3
   },
   "file_extension": ".py",
   "mimetype": "text/x-python",
   "name": "python",
   "nbconvert_exporter": "python",
   "pygments_lexer": "ipython3",
   "version": "3.10.6"
  }
 },
 "nbformat": 4,
 "nbformat_minor": 5
}
