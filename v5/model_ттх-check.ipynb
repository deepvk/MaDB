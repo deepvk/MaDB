{
 "cells": [
  {
   "cell_type": "code",
   "execution_count": 1,
   "id": "9d386788",
   "metadata": {},
   "outputs": [],
   "source": [
    "import torch\n",
    "from model import Unet_model\n",
    "from Modules import STFT"
   ]
  },
  {
   "cell_type": "code",
   "execution_count": 2,
   "id": "e5c369fc",
   "metadata": {},
   "outputs": [],
   "source": [
    "fs = 16000\n",
    "sec = 1\n",
    "signal = torch.rand(1, 1, sec*fs) # 1 "
   ]
  },
  {
   "cell_type": "markdown",
   "id": "41b7fa18",
   "metadata": {},
   "source": [
    "# 25 ms window length"
   ]
  },
  {
   "cell_type": "code",
   "execution_count": 3,
   "id": "e6178099",
   "metadata": {},
   "outputs": [
    {
     "name": "stdout",
     "output_type": "stream",
     "text": [
      "window_length: 400\n",
      "window_shift: 160\n"
     ]
    },
    {
     "data": {
      "text/plain": [
       "torch.Size([1, 1, 200, 100])"
      ]
     },
     "execution_count": 3,
     "metadata": {},
     "output_type": "execute_result"
    }
   ],
   "source": [
    "window_length = int(0.025 * fs)  # 25 ms window length\n",
    "window_shift = int(0.01 * fs)  # 10 ms window shift\n",
    "print(f'window_length: {window_length}')\n",
    "print(f'window_shift: {window_shift}')\n",
    "stft = STFT(n_fft = window_length, hop=window_shift)\n",
    "spec = stft.stft(signal)\n",
    "m = Unet_model(2)\n",
    "spec.abs().shape"
   ]
  },
  {
   "cell_type": "code",
   "execution_count": 4,
   "id": "3645d00e",
   "metadata": {},
   "outputs": [
    {
     "name": "stdout",
     "output_type": "stream",
     "text": [
      "Кол-во параметров: 822287\n"
     ]
    }
   ],
   "source": [
    "print('Кол-во параметров:', sum(p.numel() for p in m.parameters() if p.requires_grad))"
   ]
  },
  {
   "cell_type": "markdown",
   "id": "358e0596",
   "metadata": {},
   "source": [
    "## 1 sec inference"
   ]
  },
  {
   "cell_type": "code",
   "execution_count": 5,
   "id": "47995f9b",
   "metadata": {},
   "outputs": [
    {
     "name": "stdout",
     "output_type": "stream",
     "text": [
      "17.2 ms ± 693 µs per loop (mean ± std. dev. of 7 runs, 100 loops each)\n"
     ]
    }
   ],
   "source": [
    "%%timeit\n",
    "m(spec.abs())"
   ]
  },
  {
   "cell_type": "markdown",
   "id": "501c3e1e",
   "metadata": {},
   "source": [
    "## 25 ms inference"
   ]
  },
  {
   "cell_type": "code",
   "execution_count": 6,
   "id": "59f421ea",
   "metadata": {},
   "outputs": [
    {
     "data": {
      "text/plain": [
       "torch.Size([1, 1, 200, 1])"
      ]
     },
     "execution_count": 6,
     "metadata": {},
     "output_type": "execute_result"
    }
   ],
   "source": [
    "single = torch.rand(1, 1, 200, 1)\n",
    "single.shape"
   ]
  },
  {
   "cell_type": "code",
   "execution_count": 7,
   "id": "6337006d",
   "metadata": {},
   "outputs": [
    {
     "name": "stdout",
     "output_type": "stream",
     "text": [
      "3.91 ms ± 189 µs per loop (mean ± std. dev. of 7 runs, 100 loops each)\n"
     ]
    }
   ],
   "source": [
    "%%timeit\n",
    "m(single.abs())"
   ]
  },
  {
   "cell_type": "markdown",
   "id": "c7491f49",
   "metadata": {},
   "source": [
    "# 40 ms window length"
   ]
  },
  {
   "cell_type": "code",
   "execution_count": 8,
   "id": "2944f118",
   "metadata": {},
   "outputs": [
    {
     "name": "stdout",
     "output_type": "stream",
     "text": [
      "window_length: 640\n",
      "window_shift: 160\n"
     ]
    },
    {
     "data": {
      "text/plain": [
       "torch.Size([1, 1, 320, 100])"
      ]
     },
     "execution_count": 8,
     "metadata": {},
     "output_type": "execute_result"
    }
   ],
   "source": [
    "window_length = int(0.04 * fs)  # 40 ms window length\n",
    "window_shift = int(0.01 * fs)  # 10 ms window shift\n",
    "print(f'window_length: {window_length}')\n",
    "print(f'window_shift: {window_shift}')\n",
    "stft = STFT(n_fft = window_length, hop=window_shift)\n",
    "spec = stft.stft(signal)\n",
    "m = Unet_model(4)\n",
    "spec.abs().shape"
   ]
  },
  {
   "cell_type": "code",
   "execution_count": 9,
   "id": "181b2251",
   "metadata": {},
   "outputs": [
    {
     "name": "stdout",
     "output_type": "stream",
     "text": [
      "Кол-во параметров: 2397199\n"
     ]
    }
   ],
   "source": [
    "print('Кол-во параметров:', sum(p.numel() for p in m.parameters() if p.requires_grad))"
   ]
  },
  {
   "cell_type": "markdown",
   "id": "45050251",
   "metadata": {},
   "source": [
    "Количество параметров выросло из за LSTM \n",
    "\n",
    "``LSTM: (input_size = 128*botlleneck, hidden_size = 128*botlleneck)``\n",
    "\n",
    "(B, C, F, T) -> (B, C*F, T) -> (B, T, C*F)\n",
    "\n",
    "F выросло -> input_size вырос"
   ]
  },
  {
   "cell_type": "markdown",
   "id": "0add8cf0",
   "metadata": {},
   "source": [
    "## 1 sec inference"
   ]
  },
  {
   "cell_type": "code",
   "execution_count": 10,
   "id": "3341b6bf",
   "metadata": {},
   "outputs": [
    {
     "name": "stdout",
     "output_type": "stream",
     "text": [
      "32.3 ms ± 1.76 ms per loop (mean ± std. dev. of 7 runs, 10 loops each)\n"
     ]
    }
   ],
   "source": [
    "%%timeit\n",
    "m(spec.abs())"
   ]
  },
  {
   "cell_type": "markdown",
   "id": "1cf8391f",
   "metadata": {},
   "source": [
    "## 40 ms inference"
   ]
  },
  {
   "cell_type": "code",
   "execution_count": 11,
   "id": "8503ba0d",
   "metadata": {},
   "outputs": [
    {
     "data": {
      "text/plain": [
       "torch.Size([1, 1, 320, 1])"
      ]
     },
     "execution_count": 11,
     "metadata": {},
     "output_type": "execute_result"
    }
   ],
   "source": [
    "single = torch.rand(1, 1, 320, 1)\n",
    "single.shape"
   ]
  },
  {
   "cell_type": "code",
   "execution_count": 12,
   "id": "8ba4d088",
   "metadata": {},
   "outputs": [
    {
     "name": "stdout",
     "output_type": "stream",
     "text": [
      "6.38 ms ± 328 µs per loop (mean ± std. dev. of 7 runs, 100 loops each)\n"
     ]
    }
   ],
   "source": [
    "%%timeit\n",
    "m(single.abs())"
   ]
  },
  {
   "cell_type": "code",
   "execution_count": null,
   "id": "5b4a9f89",
   "metadata": {},
   "outputs": [],
   "source": []
  }
 ],
 "metadata": {
  "kernelspec": {
   "display_name": "Python 3 (ipykernel)",
   "language": "python",
   "name": "python3"
  },
  "language_info": {
   "codemirror_mode": {
    "name": "ipython",
    "version": 3
   },
   "file_extension": ".py",
   "mimetype": "text/x-python",
   "name": "python",
   "nbconvert_exporter": "python",
   "pygments_lexer": "ipython3",
   "version": "3.10.6"
  }
 },
 "nbformat": 4,
 "nbformat_minor": 5
}
