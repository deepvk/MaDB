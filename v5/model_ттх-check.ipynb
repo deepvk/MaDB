{
 "cells": [
  {
   "cell_type": "code",
   "execution_count": 16,
   "id": "6bba8aaf",
   "metadata": {},
   "outputs": [],
   "source": [
    "import torch\n",
    "from model import Unet_model"
   ]
  },
  {
   "cell_type": "code",
   "execution_count": 17,
   "id": "3510f08e",
   "metadata": {},
   "outputs": [],
   "source": [
    "m = Unet_model()\n",
    "signal = torch.rand(1, 1, 200, 429) # ~4 сек"
   ]
  },
  {
   "cell_type": "code",
   "execution_count": 18,
   "id": "3bcc7526",
   "metadata": {},
   "outputs": [
    {
     "data": {
      "text/plain": [
       "tensor([[[[-0.3807, -0.3461, -0.2926,  ..., -0.3679, -0.3690, -0.4159],\n",
       "          [-0.1976, -0.4865, -0.7166,  ..., -0.1085, -0.4193, -0.6174],\n",
       "          [-0.0538,  0.0568, -0.3144,  ..., -0.4788, -0.2773, -0.8374],\n",
       "          ...,\n",
       "          [ 0.0631, -0.1782, -0.5889,  ...,  0.2700, -0.3376, -0.0616],\n",
       "          [-0.1641, -0.6082, -0.0298,  ..., -0.8134, -0.2443,  0.0430],\n",
       "          [ 0.0167, -0.2847, -0.5617,  ..., -0.3611, -0.5543, -0.4620]]]],\n",
       "       grad_fn=<SliceBackward0>)"
      ]
     },
     "execution_count": 18,
     "metadata": {},
     "output_type": "execute_result"
    }
   ],
   "source": [
    "m(signal)"
   ]
  },
  {
   "cell_type": "code",
   "execution_count": 19,
   "id": "1ffed52f",
   "metadata": {},
   "outputs": [
    {
     "name": "stdout",
     "output_type": "stream",
     "text": [
      "48.9 ms ± 1.2 ms per loop (mean ± std. dev. of 7 runs, 10 loops each)\n"
     ]
    }
   ],
   "source": [
    "%%timeit\n",
    "m(signal)"
   ]
  },
  {
   "cell_type": "code",
   "execution_count": 20,
   "id": "75ae4ea6",
   "metadata": {},
   "outputs": [
    {
     "data": {
      "text/plain": [
       "822287"
      ]
     },
     "execution_count": 20,
     "metadata": {},
     "output_type": "execute_result"
    }
   ],
   "source": [
    "sum(p.numel() for p in m.parameters())"
   ]
  },
  {
   "cell_type": "code",
   "execution_count": 21,
   "id": "e0705a09",
   "metadata": {},
   "outputs": [
    {
     "data": {
      "text/plain": [
       "822287"
      ]
     },
     "execution_count": 21,
     "metadata": {},
     "output_type": "execute_result"
    }
   ],
   "source": [
    "sum(p.numel() for p in m.parameters() if p.requires_grad)"
   ]
  }
 ],
 "metadata": {
  "kernelspec": {
   "display_name": "Python 3 (ipykernel)",
   "language": "python",
   "name": "python3"
  },
  "language_info": {
   "codemirror_mode": {
    "name": "ipython",
    "version": 3
   },
   "file_extension": ".py",
   "mimetype": "text/x-python",
   "name": "python",
   "nbconvert_exporter": "python",
   "pygments_lexer": "ipython3",
   "version": "3.10.6"
  }
 },
 "nbformat": 4,
 "nbformat_minor": 5
}
