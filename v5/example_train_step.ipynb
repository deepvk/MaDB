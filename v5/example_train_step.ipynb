{
 "cells": [
  {
   "cell_type": "code",
   "execution_count": 1,
   "id": "6bb4315c",
   "metadata": {},
   "outputs": [],
   "source": [
    "import torch\n",
    "import torch as th\n",
    "from tqdm import tqdm\n",
    "import torch.nn as nn\n",
    "import torch.nn.functional as F\n",
    "from matplotlib import pyplot as plt\n",
    "from torchmetrics import ScaleInvariantSignalNoiseRatio\n",
    "\n",
    "from Modules import STFT\n",
    "from model import Unet_model\n",
    "from data import my_dataset"
   ]
  },
  {
   "cell_type": "code",
   "execution_count": 2,
   "id": "1e5c14db",
   "metadata": {},
   "outputs": [],
   "source": [
    "data_train = my_dataset('./beam_data_v1/train')\n",
    "\n",
    "fs = 16000  # Sampling frequency\n",
    "window_length = int(0.025 * fs)  # 25 ms window length\n",
    "window_shift = int(0.01 * fs)  # 10 ms window shift\n",
    "stft = STFT(n_fft = window_length, hop=window_shift)\n",
    "\n",
    "train_target, train_sample, train_noise = data_train[0]"
   ]
  },
  {
   "cell_type": "code",
   "execution_count": 3,
   "id": "948334ed",
   "metadata": {},
   "outputs": [],
   "source": [
    "# поиск опорного канала\n",
    "spec_sample = stft.stft(train_sample[None])\n",
    "power_spec = spec_sample.abs()**2\n",
    "\n",
    "mean_spec_power = power_spec.mean(dim=(-1, -2)) # беру среднее по F и по T\n",
    "ref_channel = torch.argmax(mean_spec_power, dim=1) # индекс канала, где в среднем самый мощный сигнал\n",
    "ref_sample_mic = spec_sample[:,ref_channel] # референс канал"
   ]
  },
  {
   "cell_type": "code",
   "execution_count": 4,
   "id": "f1b3f7aa",
   "metadata": {},
   "outputs": [],
   "source": [
    "## вся обработка и получение итогового сигнала\n",
    "def pipeline(model, spec):\n",
    "    magn = spec.abs()\n",
    "    phase = th.atan2(spec.imag, spec.real)\n",
    "    mask = model(torch.log(magn+1e-5))\n",
    "    mag_predict = magn * mask\n",
    "    imag = mag_predict * th.sin(phase)\n",
    "    real = mag_predict * th.cos(phase)\n",
    "    z = th.complex(real, imag)\n",
    "    return z"
   ]
  },
  {
   "cell_type": "code",
   "execution_count": 5,
   "id": "b956b3e8",
   "metadata": {},
   "outputs": [],
   "source": [
    "## init train\n",
    "epochs = 1000\n",
    "model = Unet_model()\n",
    "\n",
    "optim = torch.optim.AdamW(model.parameters(), lr=3e-4)\n",
    "scheduler = torch.optim.lr_scheduler.CosineAnnealingWarmRestarts(\n",
    "            optim, T_0=40\n",
    "        )\n",
    "si = ScaleInvariantSignalNoiseRatio()\n",
    "losses = []\n",
    "metrics = []"
   ]
  },
  {
   "cell_type": "code",
   "execution_count": 7,
   "id": "71e9f774",
   "metadata": {},
   "outputs": [
    {
     "name": "stderr",
     "output_type": "stream",
     "text": [
      "100%|██████████████████████████████████████████████████████████████████████████████| 1000/1000 [01:53<00:00,  8.81it/s]\n"
     ]
    }
   ],
   "source": [
    "for epoch in tqdm(range(epochs)):\n",
    "    optim.zero_grad()\n",
    "    \n",
    "    z = pipeline(model, ref_sample_mic)\n",
    "    wave_predict = stft.istft(z, train_sample.shape[-1])\n",
    "    loss = F.mse_loss(wave_predict, train_target[None])\n",
    "    \n",
    "    loss.backward()\n",
    "    optim.step()\n",
    "    \n",
    "    metrics.append(si(wave_predict.detach(), train_target[None]))\n",
    "    losses.append(loss.item())\n",
    "    #print(\"Epoch [{}/{}], loss: {:.4f}, metric: {:.4f}\".format(epoch+1, epochs, losses[-1], metrics[-1]))"
   ]
  },
  {
   "cell_type": "code",
   "execution_count": null,
   "id": "696ba060",
   "metadata": {},
   "outputs": [],
   "source": []
  }
 ],
 "metadata": {
  "kernelspec": {
   "display_name": "Python 3 (ipykernel)",
   "language": "python",
   "name": "python3"
  },
  "language_info": {
   "codemirror_mode": {
    "name": "ipython",
    "version": 3
   },
   "file_extension": ".py",
   "mimetype": "text/x-python",
   "name": "python",
   "nbconvert_exporter": "python",
   "pygments_lexer": "ipython3",
   "version": "3.10.6"
  }
 },
 "nbformat": 4,
 "nbformat_minor": 5
}
