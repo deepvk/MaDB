{
 "cells": [
  {
   "cell_type": "code",
   "execution_count": 1,
   "id": "1fcfe747-031d-4add-b648-c86632c8e6be",
   "metadata": {},
   "outputs": [],
   "source": [
    "import torch\n",
    "import torch.nn as nn\n",
    "import math\n",
    "from torch.nn import functional as F"
   ]
  },
  {
   "cell_type": "code",
   "execution_count": 2,
   "id": "9cbe8808-5c78-49a7-b736-e7e78d311948",
   "metadata": {},
   "outputs": [],
   "source": [
    "class DownSample(nn.Module):\n",
    "    def __init__(self, \n",
    "                 input_channel,\n",
    "                 out_channel,\n",
    "                 kernel_size,\n",
    "                 stride,\n",
    "                 padding,\n",
    "                 activation\n",
    "                ):\n",
    "        super().__init__()\n",
    "        self.conv = nn.Sequential(\n",
    "            nn.Conv2d(input_channel, out_channel, \n",
    "                      kernel_size=kernel_size, stride=stride, padding=padding\n",
    "                     ), \n",
    "            nn.InstanceNorm2d(out_channel), \n",
    "            activation\n",
    "        )\n",
    "    def forward(self, x):\n",
    "        return self.conv(x)"
   ]
  },
  {
   "cell_type": "code",
   "execution_count": 3,
   "id": "c5744f5f-14c4-4ec5-8148-4432b64ef8c8",
   "metadata": {},
   "outputs": [],
   "source": [
    "class UpSample(nn.Module):\n",
    "    def __init__(self, \n",
    "                 input_channel,\n",
    "                 out_channel,\n",
    "                 kernel_size,\n",
    "                 stride,\n",
    "                 activation\n",
    "                ):\n",
    "        super().__init__()\n",
    "        self.conv = nn.Sequential(\n",
    "            nn.ConvTranspose2d(input_channel, out_channel, \n",
    "                      kernel_size=kernel_size, stride=stride\n",
    "                     ), \n",
    "            nn.InstanceNorm2d(out_channel), \n",
    "            activation\n",
    "        )\n",
    "    def forward(self, x):\n",
    "        return self.conv(x)"
   ]
  },
  {
   "cell_type": "code",
   "execution_count": 4,
   "id": "59d6e6fe-0a06-4edc-adc9-32c843e2bb55",
   "metadata": {},
   "outputs": [
    {
     "data": {
      "text/plain": [
       "torch.Size([1, 2, 202, 202])"
      ]
     },
     "execution_count": 4,
     "metadata": {},
     "output_type": "execute_result"
    }
   ],
   "source": [
    "UpSample(1, 2, 3, 1, nn.GELU())(torch.rand(1,1,200,200)).shape"
   ]
  },
  {
   "cell_type": "code",
   "execution_count": 5,
   "id": "15b04b9d-2c46-4740-b454-491a74329980",
   "metadata": {},
   "outputs": [],
   "source": [
    "class Unet_model(nn.Module):\n",
    "    def __init__(\n",
    "        self, input_channel=1, out_channel=32, log_flag=False):\n",
    "        super().__init__()\n",
    "        self.encoder = nn.ModuleList()\n",
    "        self.decoder = nn.ModuleList()\n",
    "        self.log_flag = log_flag\n",
    "        \n",
    "        self.down_1 = DownSample(\n",
    "                input_channel=1,\n",
    "                out_channel=32, \n",
    "                kernel_size=(8, 1), \n",
    "                stride=(4, 1),\n",
    "                padding = (0, 0),\n",
    "                activation = nn.GELU(),\n",
    "            )\n",
    "        \n",
    "        self.down_2 = DownSample(\n",
    "                input_channel=32,\n",
    "                out_channel=64, \n",
    "                kernel_size=(8, 1), \n",
    "                stride=(4, 1),\n",
    "                padding = (0, 0),\n",
    "                activation = nn.GELU()\n",
    "            )\n",
    "        \n",
    "        self.down_3 = DownSample(\n",
    "                input_channel=64,\n",
    "                out_channel=128, \n",
    "                kernel_size=(8, 1), \n",
    "                stride=(4, 1),\n",
    "                padding = (0, 0),\n",
    "                activation = nn.GELU()\n",
    "            )\n",
    "             \n",
    "        self.lstm = nn.LSTM(input_size=128, \n",
    "                            hidden_size=128, \n",
    "                            num_layers=1, \n",
    "                            batch_first=True)\n",
    "        \n",
    "        \n",
    "#         self.fc_b = nn.Sequential(\n",
    "#             nn.Linear(128, 128),\n",
    "#             nn.InstanceNorm1d(128), \n",
    "#             nn.GELU()\n",
    "#         )\n",
    "        \n",
    "        self.up_1 = UpSample(\n",
    "            input_channel=128,\n",
    "            out_channel=64, \n",
    "            kernel_size=(11, 1), \n",
    "            stride=(4, 1),\n",
    "            activation = nn.GELU()\n",
    "        )\n",
    "        \n",
    "        self.up_2 = UpSample(\n",
    "            input_channel=64,\n",
    "            out_channel=32, \n",
    "            kernel_size=(9, 1), \n",
    "            stride=(4, 1),\n",
    "            activation = nn.GELU()\n",
    "        )    \n",
    "        \n",
    "        self.up_3 = UpSample(\n",
    "            input_channel=32,\n",
    "            out_channel=16, \n",
    "            kernel_size=(8, 1), \n",
    "            stride=(4, 1),\n",
    "            activation = nn.GELU()\n",
    "        )\n",
    "        \n",
    "        self.conv = nn.Sequential(\n",
    "             nn.Conv2d(\n",
    "                 in_channels=16, \n",
    "                 out_channels=1, \n",
    "                 kernel_size=1, \n",
    "                 stride=1, \n",
    "                 padding=0\n",
    "                     ),\n",
    "            nn.Sigmoid()\n",
    "            \n",
    "        )\n",
    "        \n",
    "    def forward(self, x):\n",
    "        B, C, F, T = x.shape\n",
    "        \n",
    "        x = x.abs().mean(dim=1).view(B, 1, F, T)  # (B, F, T) -> (B, 1, F, T)\n",
    "        if self.log_flag:\n",
    "            x = torch.log(x + 1e-5)\n",
    "\n",
    "\n",
    "        x1 = self.down_1(x)\n",
    "        x2 = self.down_2(x1)\n",
    "        x3 = self.down_3(x2)\n",
    "        \n",
    "        _, C_c, F_c, _ = x3.shape\n",
    "        x = x3.view(B, -1, T).permute(0, 2, 1) # (B, C, F, T) -> (B, C*F, T) -> (B, T, C*F)\n",
    "        x = self.lstm(x)[0] + x\n",
    "        x = x.permute(0, 2, 1).view(B, C_c, F_c, T)\n",
    "        \n",
    "        x = self.up_1(x  + x3)\n",
    "        x = self.up_2(x  + x2)\n",
    "        x = self.up_3(x  + x1)\n",
    "        return self.conv(x)"
   ]
  },
  {
   "cell_type": "code",
   "execution_count": 6,
   "id": "1df3160c-bb20-4b7a-abb2-2203ffff0dee",
   "metadata": {},
   "outputs": [],
   "source": [
    "unet = Unet_model()#(torch.rand(1, 1, 200, 375)).shape"
   ]
  },
  {
   "cell_type": "code",
   "execution_count": 7,
   "id": "e9a0296d-5ff2-4cae-b8ac-928ff5fb8f56",
   "metadata": {},
   "outputs": [
    {
     "data": {
      "text/plain": [
       "tensor([[[[0.5143, 0.4415, 0.4996,  ..., 0.5754, 0.5614, 0.5253],\n",
       "          [0.4868, 0.4478, 0.4431,  ..., 0.5357, 0.5049, 0.5173],\n",
       "          [0.5588, 0.5326, 0.4751,  ..., 0.5113, 0.5297, 0.5057],\n",
       "          ...,\n",
       "          [0.5550, 0.5480, 0.5402,  ..., 0.5816, 0.4968, 0.5821],\n",
       "          [0.4998, 0.5027, 0.5096,  ..., 0.4832, 0.5342, 0.4980],\n",
       "          [0.5163, 0.4946, 0.4933,  ..., 0.4789, 0.5332, 0.5021]]]],\n",
       "       grad_fn=<SigmoidBackward0>)"
      ]
     },
     "execution_count": 7,
     "metadata": {},
     "output_type": "execute_result"
    }
   ],
   "source": [
    "unet(torch.rand(1, 1, 200, 375))"
   ]
  },
  {
   "cell_type": "code",
   "execution_count": 8,
   "id": "d866686e",
   "metadata": {},
   "outputs": [
    {
     "name": "stdout",
     "output_type": "stream",
     "text": [
      "46.9 ms ± 3.47 ms per loop (mean ± std. dev. of 7 runs, 10 loops each)\n"
     ]
    }
   ],
   "source": [
    "%%timeit\n",
    "unet(torch.rand(1, 1, 200, 400))"
   ]
  },
  {
   "cell_type": "code",
   "execution_count": 15,
   "id": "38d64bdf",
   "metadata": {},
   "outputs": [
    {
     "name": "stdout",
     "output_type": "stream",
     "text": [
      "RT:60\n"
     ]
    }
   ],
   "source": [
    "print(f\"RT:{3000 // 50}\")"
   ]
  },
  {
   "cell_type": "code",
   "execution_count": 16,
   "id": "d0493643",
   "metadata": {},
   "outputs": [
    {
     "data": {
      "text/plain": [
       "11"
      ]
     },
     "execution_count": 16,
     "metadata": {},
     "output_type": "execute_result"
    }
   ],
   "source": [
    "(49-8+2)//4 + 1"
   ]
  },
  {
   "cell_type": "code",
   "execution_count": 17,
   "id": "dbefda61",
   "metadata": {},
   "outputs": [
    {
     "data": {
      "text/plain": [
       "48"
      ]
     },
     "execution_count": 17,
     "metadata": {},
     "output_type": "execute_result"
    }
   ],
   "source": [
    "(11 - 1)*4 + (8-1) + 1"
   ]
  },
  {
   "cell_type": "code",
   "execution_count": 18,
   "id": "4dbcc5d3",
   "metadata": {},
   "outputs": [
    {
     "data": {
      "text/plain": [
       "11"
      ]
     },
     "execution_count": 18,
     "metadata": {},
     "output_type": "execute_result"
    }
   ],
   "source": [
    "(49-8+2)//4 + 1"
   ]
  }
 ],
 "metadata": {
  "kernelspec": {
   "display_name": "Python 3 (ipykernel)",
   "language": "python",
   "name": "python3"
  },
  "language_info": {
   "codemirror_mode": {
    "name": "ipython",
    "version": 3
   },
   "file_extension": ".py",
   "mimetype": "text/x-python",
   "name": "python",
   "nbconvert_exporter": "python",
   "pygments_lexer": "ipython3",
   "version": "3.10.6"
  }
 },
 "nbformat": 4,
 "nbformat_minor": 5
}
